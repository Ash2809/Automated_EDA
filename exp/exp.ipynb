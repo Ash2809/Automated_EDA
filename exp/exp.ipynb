{
 "cells": [
  {
   "cell_type": "code",
   "execution_count": 4,
   "metadata": {},
   "outputs": [],
   "source": [
    "import pandas as pd\n",
    "from sklearn.impute import SimpleImputer\n",
    "from sklearn.preprocessing import LabelEncoder\n",
    "from scipy.stats import zscore\n",
    "import re\n",
    "\n",
    "def handle_missing_values(data):\n",
    "    imputer = SimpleImputer(strategy = 'mean')\n",
    "    for col in data.columns:\n",
    "        if data[col].isnull().sum() > 0:\n",
    "            if data[col].dtype == 'object':\n",
    "                data[col] = data[col].fillna(data.mode()[0])\n",
    "            else:\n",
    "                data[col] = imputer.fit_transform(data[[col]]).flatten()\n",
    "    return data\n",
    "\n",
    "def remove_duplicates(data):\n",
    "    return data.drop_duplicates()\n",
    "\n",
    "\n",
    "def remove_outliers(data):\n",
    "    numerical_columns = data.select_dtypes(include = ['int64', 'float64']).columns\n",
    "    z_scores = abs(zscore(data[numerical_columns]).all(axis = 1))\n",
    "\n",
    "    cleaned_data = data[(z_scores < 3)].all(axis = 1)\n",
    "    return cleaned_data\n",
    "\n",
    "def clean_data(data, flag):\n",
    "    data = handle_missing_values(data)\n",
    "    data = remove_duplicates(data)\n",
    "\n",
    "    if(flag):\n",
    "        data = remove_outliers(data)\n",
    "    return data\n",
    "\n",
    "\n"
   ]
  },
  {
   "cell_type": "code",
   "execution_count": 5,
   "metadata": {},
   "outputs": [
    {
     "name": "stdout",
     "output_type": "stream",
     "text": [
      "Before data cleaning shape (4177, 9)\n",
      "After data cleaning shape:  (4177,)\n"
     ]
    },
    {
     "data": {
      "text/plain": [
       "0    True\n",
       "1    True\n",
       "2    True\n",
       "3    True\n",
       "4    True\n",
       "5    True\n",
       "6    True\n",
       "7    True\n",
       "8    True\n",
       "9    True\n",
       "dtype: bool"
      ]
     },
     "execution_count": 5,
     "metadata": {},
     "output_type": "execute_result"
    }
   ],
   "source": [
    "path = r\"C:\\Users\\aashutosh kumar\\Music\\abalone.csv\"\n",
    "data = pd.read_csv(path)\n",
    "\n",
    "print(\"Before data cleaning shape\", data.shape)\n",
    "\n",
    "cleaned_data = clean_data(data, flag=True)\n",
    "\n",
    "print(\"After data cleaning shape: \", cleaned_data.shape)\n",
    "cleaned_data.head(10)"
   ]
  }
 ],
 "metadata": {
  "kernelspec": {
   "display_name": "venv",
   "language": "python",
   "name": "python3"
  },
  "language_info": {
   "codemirror_mode": {
    "name": "ipython",
    "version": 3
   },
   "file_extension": ".py",
   "mimetype": "text/x-python",
   "name": "python",
   "nbconvert_exporter": "python",
   "pygments_lexer": "ipython3",
   "version": "3.10.16"
  }
 },
 "nbformat": 4,
 "nbformat_minor": 2
}
